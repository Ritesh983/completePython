{
 "cells": [
  {
   "cell_type": "markdown",
   "id": "746bc05e",
   "metadata": {},
   "source": [
    "* make a new column for episode count\n",
    "* make a new column for time stamp\n",
    "* which anime has the highest score\n",
    "* give me top 5 highest scoring anime\n",
    "* which anime has the highest episode count\n",
    "* animes with top 5 episode count\n",
    "* which is the longest running anime"
   ]
  },
  {
   "cell_type": "code",
   "execution_count": null,
   "id": "e77584d8",
   "metadata": {},
   "outputs": [],
   "source": [
    "import numpy as np \n",
    "import pandas as pd "
   ]
  },
  {
   "cell_type": "code",
   "execution_count": null,
   "id": "d0a142c7",
   "metadata": {},
   "outputs": [],
   "source": [
    "df=pd.read_csv(r'anime.csv')"
   ]
  },
  {
   "cell_type": "code",
   "execution_count": null,
   "id": "ae023af7",
   "metadata": {},
   "outputs": [],
   "source": [
    "df"
   ]
  },
  {
   "cell_type": "code",
   "execution_count": null,
   "id": "64e31841",
   "metadata": {},
   "outputs": [],
   "source": [
    "df.head()"
   ]
  },
  {
   "cell_type": "code",
   "execution_count": null,
   "id": "a55b4230",
   "metadata": {},
   "outputs": [],
   "source": [
    "def extract_episodes(txt):\n",
    "  check=False\n",
    "  data=\"\"\n",
    "  for i in txt:\n",
    "    if i==\")\":\n",
    "      check=False\n",
    "      return data\n",
    "    if check==True:\n",
    "      data=data +i\n",
    "    if i==\"(\":\n",
    "      check=True\n",
    "\n"
   ]
  },
  {
   "cell_type": "code",
   "execution_count": null,
   "id": "a8d3cd39",
   "metadata": {},
   "outputs": [],
   "source": [
    "df['episodes']=df['Title'].apply(extract_episodes)\n",
    "df"
   ]
  },
  {
   "cell_type": "code",
   "execution_count": null,
   "id": "323933b6",
   "metadata": {},
   "outputs": [],
   "source": [
    "df['episodes']=df['episodes'].str.replace(\" eps\",\"\")\n",
    "df"
   ]
  },
  {
   "cell_type": "code",
   "execution_count": null,
   "id": "9f767ab7",
   "metadata": {},
   "outputs": [],
   "source": [
    "df['episodes']=df['episodes'].astype(int)\n"
   ]
  },
  {
   "cell_type": "code",
   "execution_count": null,
   "id": "f1a43e4b",
   "metadata": {},
   "outputs": [],
   "source": [
    "def time_extract(txt):\n",
    "  data=\"\"\n",
    "  for i in range(len(txt)):\n",
    "    if txt[i]==\")\":\n",
    "      for j in range(i+1,i+20):\n",
    "        data=data + txt[j]\n",
    "      return data"
   ]
  },
  {
   "cell_type": "code",
   "execution_count": null,
   "id": "90501489",
   "metadata": {},
   "outputs": [],
   "source": [
    "df['Total Time']=df['Title'].apply(time_extract)\n",
    "df"
   ]
  },
  {
   "cell_type": "code",
   "execution_count": null,
   "id": "8e773f4a",
   "metadata": {},
   "outputs": [],
   "source": [
    "from dateutil.relativedelta import relativedelta\n",
    "from datetime import datetime\n",
    "\n",
    "def calculate_total_months(period):\n",
    "    try:\n",
    "        start_str, end_str = period.split(' - ')\n",
    "        start_date = datetime.strptime(start_str, '%b %Y')\n",
    "        end_date = datetime.strptime(end_str, '%b %Y')\n",
    "        r = relativedelta(end_date, start_date)\n",
    "        return r.years * 12 + r.months + 1  # +1 to include the starting month\n",
    "    except:\n",
    "        return None\n",
    "\n",
    "df['Months'] = df['Total Time'].apply(calculate_total_months)"
   ]
  },
  {
   "cell_type": "code",
   "execution_count": null,
   "id": "979116ed",
   "metadata": {},
   "outputs": [],
   "source": [
    "df"
   ]
  },
  {
   "cell_type": "code",
   "execution_count": null,
   "id": "a7111f51",
   "metadata": {},
   "outputs": [],
   "source": [
    "df[df['Score'] == df['Score'].max()]"
   ]
  },
  {
   "cell_type": "code",
   "execution_count": null,
   "id": "58983528",
   "metadata": {},
   "outputs": [],
   "source": [
    "ds=df.nlargest(5,'Score')\n",
    "ds"
   ]
  },
  {
   "cell_type": "code",
   "execution_count": null,
   "id": "1a39a9db",
   "metadata": {},
   "outputs": [],
   "source": [
    "df[df['episodes'] == df['episodes'].max()]"
   ]
  },
  {
   "cell_type": "code",
   "execution_count": null,
   "id": "a6c87c14",
   "metadata": {},
   "outputs": [],
   "source": [
    "de=df.nlargest(5,'episodes')\n",
    "de"
   ]
  },
  {
   "cell_type": "code",
   "execution_count": null,
   "id": "ca7da7d2",
   "metadata": {},
   "outputs": [],
   "source": [
    "df[df['Months']==df['Months'].max()]"
   ]
  }
 ],
 "metadata": {
  "kernelspec": {
   "display_name": "venv",
   "language": "python",
   "name": "python3"
  },
  "language_info": {
   "codemirror_mode": {
    "name": "ipython",
    "version": 3
   },
   "file_extension": ".py",
   "mimetype": "text/x-python",
   "name": "python",
   "nbconvert_exporter": "python",
   "pygments_lexer": "ipython3",
   "version": "3.12.5"
  }
 },
 "nbformat": 4,
 "nbformat_minor": 5
}
