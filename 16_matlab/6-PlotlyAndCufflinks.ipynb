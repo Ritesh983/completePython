{
 "cells": [
  {
   "cell_type": "code",
   "execution_count": null,
   "id": "78ba16cc",
   "metadata": {},
   "outputs": [],
   "source": [
    "#!pip install plotly\n",
    "!pip install cufflinks"
   ]
  },
  {
   "cell_type": "code",
   "execution_count": null,
   "id": "62412833",
   "metadata": {},
   "outputs": [],
   "source": [
    "import seaborn as sns\n",
    "import pandas as pd \n",
    "import cufflinks as cf \n",
    "from plotly.offline import iplot\n",
    "import plotly.express as px\n"
   ]
  },
  {
   "cell_type": "code",
   "execution_count": null,
   "id": "61584c12",
   "metadata": {},
   "outputs": [],
   "source": [
    "tips = sns.load_dataset('tips')\n",
    "tips\n"
   ]
  },
  {
   "cell_type": "code",
   "execution_count": null,
   "id": "4165a4c9",
   "metadata": {},
   "outputs": [],
   "source": [
    "fig = px.line(tips, y='total_bill', title='Total Bill')\n",
    "fig.show()\n"
   ]
  },
  {
   "cell_type": "code",
   "execution_count": null,
   "id": "1e0ef13f",
   "metadata": {},
   "outputs": [],
   "source": [
    "mean_tip = tips.groupby('day', observed=True)['tip'].mean().reset_index()\n",
    "\n",
    "fig = px.bar(mean_tip, x='day', y='tip', title='Average Tip by Day')\n",
    "fig.show()"
   ]
  },
  {
   "cell_type": "code",
   "execution_count": null,
   "id": "fe4d3a93",
   "metadata": {},
   "outputs": [],
   "source": [
    "fig = px.line(\n",
    "    tips,\n",
    "    x='total_bill',\n",
    "    y='tip',\n",
    "    markers=True,  # This shows dots along with connecting lines\n",
    "    title='Line Plot: Total Bill vs Tip (with Dots)',\n",
    "    labels={'total_bill': 'Total Bill ($)', 'tip': 'Tip ($)'},\n",
    "    template='plotly_dark'\n",
    ")\n",
    "\n",
    "fig.show()"
   ]
  },
  {
   "cell_type": "code",
   "execution_count": null,
   "id": "8ed62883",
   "metadata": {},
   "outputs": [],
   "source": [
    "tips = sns.load_dataset(\"tips\")\n",
    "\n",
    "# Plot\n",
    "fig = px.scatter(\n",
    "    tips,\n",
    "    x='total_bill',\n",
    "    y='tip',\n",
    "    title='Scatter Plot: Total Bill vs Tip',\n",
    ")\n",
    "\n",
    "fig.show()"
   ]
  },
  {
   "cell_type": "code",
   "execution_count": null,
   "id": "7950f6b7",
   "metadata": {},
   "outputs": [],
   "source": [
    "fig = px.box(\n",
    "    tips,\n",
    "    x='day',           # categorical grouping variable on x-axis\n",
    "    y='total_bill',    # numeric variable to show distribution for\n",
    "    title='Total Bill Distribution by Day',\n",
    "    labels={'day': 'Day of Week', 'total_bill': 'Total Bill ($)'},\n",
    "    template='plotly_dark'  # optional styling\n",
    ")\n",
    "\n",
    "fig.show()"
   ]
  }
 ],
 "metadata": {
  "kernelspec": {
   "display_name": "venv",
   "language": "python",
   "name": "python3"
  },
  "language_info": {
   "codemirror_mode": {
    "name": "ipython",
    "version": 3
   },
   "file_extension": ".py",
   "mimetype": "text/x-python",
   "name": "python",
   "nbconvert_exporter": "python",
   "pygments_lexer": "ipython3",
   "version": "3.12.5"
  }
 },
 "nbformat": 4,
 "nbformat_minor": 5
}
