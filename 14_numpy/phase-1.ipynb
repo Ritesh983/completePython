{
 "cells": [
  {
   "cell_type": "markdown",
   "id": "a08df360",
   "metadata": {},
   "source": [
    "## Numpy array and basics\n",
    "learn about numpy with chai aur code"
   ]
  },
  {
   "cell_type": "code",
   "execution_count": 1,
   "id": "480ce930",
   "metadata": {},
   "outputs": [],
   "source": [
    "import numpy as np"
   ]
  },
  {
   "cell_type": "markdown",
   "id": "f8a87bde",
   "metadata": {},
   "source": [
    "### creating array from list"
   ]
  },
  {
   "cell_type": "code",
   "execution_count": 2,
   "id": "d58f0eef",
   "metadata": {},
   "outputs": [
    {
     "name": "stdout",
     "output_type": "stream",
     "text": [
      "1D array:  [1 2 3 4 5]\n",
      "2D array:  [[1 2 3]\n",
      " [4 5 6]]\n"
     ]
    }
   ],
   "source": [
    "arr_1d=np.array([1,2,3,4,5])\n",
    "print(\"1D array: \",arr_1d)\n",
    "\n",
    "arr_2d=np.array([[1,2,3],[4,5,6]])\n",
    "print(\"2D array: \",arr_2d)"
   ]
  },
  {
   "cell_type": "markdown",
   "id": "7f2e4732",
   "metadata": {},
   "source": [
    "### List vs numpy array"
   ]
  },
  {
   "cell_type": "code",
   "execution_count": 3,
   "id": "f478ca6d",
   "metadata": {},
   "outputs": [
    {
     "name": "stdout",
     "output_type": "stream",
     "text": [
      "Python list multiplication  [1, 2, 3, 1, 2, 3]\n",
      "Python array multiplication  [2 4 6]\n",
      "\n",
      " List operation time:  0.05100440979003906\n",
      "\n",
      " Numpy operation time:  0.0010001659393310547\n"
     ]
    }
   ],
   "source": [
    "py_list=[1,2,3]\n",
    "print(\"Python list multiplication \",py_list*2)\n",
    "\n",
    "np_array=np.array([1,2,3])\n",
    "print(\"Python array multiplication \",np_array*2)\n",
    "\n",
    "import time\n",
    "start=time.time()\n",
    "py_list=[i*2 for i in range(1000000)]\n",
    "print(\"\\n List operation time: \",time.time()-start)\n",
    "\n",
    "start=time.time()\n",
    "np_array=np.arange(1000000)\n",
    "print(\"\\n Numpy operation time: \",time.time()-start)\n"
   ]
  },
  {
   "cell_type": "markdown",
   "id": "4283c8eb",
   "metadata": {},
   "source": [
    "### creating array from scratch"
   ]
  },
  {
   "cell_type": "code",
   "execution_count": 4,
   "id": "55d8f9a3",
   "metadata": {},
   "outputs": [
    {
     "name": "stdout",
     "output_type": "stream",
     "text": [
      "zeros array: \n",
      " [[0. 0. 0. 0.]\n",
      " [0. 0. 0. 0.]\n",
      " [0. 0. 0. 0.]]\n",
      "ones array: \n",
      " [[1. 1. 1.]\n",
      " [1. 1. 1.]]\n",
      "full array: \n",
      " [[5 5 5 5]\n",
      " [5 5 5 5]\n",
      " [5 5 5 5]]\n",
      "random array: \n",
      " [[4.46484453e-03 9.02083947e-01 5.58778524e-01 2.16009349e-01\n",
      "  5.50459670e-01]\n",
      " [5.50799680e-01 1.77802382e-05 9.23818662e-01 4.98516480e-01\n",
      "  9.60879280e-01]\n",
      " [5.86739077e-01 2.34830356e-01 4.21781114e-01 1.25478533e-01\n",
      "  3.13966960e-01]\n",
      " [6.17340512e-01 8.33735767e-01 6.24346388e-01 4.13528488e-01\n",
      "  6.77058976e-01]]\n",
      "sequence array: \n",
      " [ 0  2  4  6  8 10]\n"
     ]
    }
   ],
   "source": [
    "zeroes=np.zeros((3,4))\n",
    "print(\"zeros array: \\n\",zeroes)\n",
    "\n",
    "ones=np.ones((2,3))\n",
    "print(\"ones array: \\n\",ones)\n",
    "\n",
    "full_arr=np.full((3,4),5)\n",
    "print(\"full array: \\n\",full_arr)\n",
    "\n",
    "random_arr=np.random.random((4,5))\n",
    "print(\"random array: \\n\",random_arr)\n",
    "\n",
    "\n",
    "seq=np.arange(0,11,2)\n",
    "print(\"sequence array: \\n\",seq)"
   ]
  },
  {
   "cell_type": "markdown",
   "id": "8d39317b",
   "metadata": {},
   "source": [
    "### Vector,Matrices and Tensor"
   ]
  },
  {
   "cell_type": "code",
   "execution_count": 5,
   "id": "48d31e4d",
   "metadata": {},
   "outputs": [
    {
     "name": "stdout",
     "output_type": "stream",
     "text": [
      "vector:  [1 2 3 4 5]\n",
      "Matrices:  [[1 2 3]\n",
      " [4 5 6]\n",
      " [7 8 9]]\n",
      "Tensor:  [[[1 2]\n",
      "  [3 4]]\n",
      "\n",
      " [[5 6]\n",
      "  [7 8]]]\n"
     ]
    }
   ],
   "source": [
    "vector=np.array([1,2,3,4,5])\n",
    "print(\"vector: \",vector)\n",
    "\n",
    "matrices=np.array([[1,2,3],\n",
    "                   [4,5,6],\n",
    "                   [7,8,9]])\n",
    "print(\"Matrices: \",matrices)\n",
    "\n",
    "tensor=np.array([[[1,2],[3,4]],\n",
    "                 [[5,6],[7,8]]])\n",
    "print(\"Tensor: \",tensor)"
   ]
  },
  {
   "cell_type": "markdown",
   "id": "e8985ae9",
   "metadata": {},
   "source": [
    "### Array properties"
   ]
  },
  {
   "cell_type": "code",
   "execution_count": 6,
   "id": "2284a682",
   "metadata": {},
   "outputs": [
    {
     "name": "stdout",
     "output_type": "stream",
     "text": [
      "Shape      (2, 3)\n",
      "Dimension  2\n",
      "Size       6\n",
      "DType      int64\n"
     ]
    }
   ],
   "source": [
    "arr=np.array([[1,2,3],\n",
    "              [4,5,6]])\n",
    "print(\"Shape     \",arr.shape)\n",
    "print(\"Dimension \",arr.ndim)\n",
    "print(\"Size      \",arr.size)\n",
    "print(\"DType     \",arr.dtype)"
   ]
  },
  {
   "cell_type": "markdown",
   "id": "655fa65d",
   "metadata": {},
   "source": [
    "### Array Reshaping"
   ]
  },
  {
   "cell_type": "code",
   "execution_count": 7,
   "id": "00848026",
   "metadata": {},
   "outputs": [
    {
     "name": "stdout",
     "output_type": "stream",
     "text": [
      "Original Array:\n",
      " [ 0  1  2  3  4  5  6  7  8  9 10 11]\n",
      "\n",
      " Reshaped Array:\n",
      " [[ 0  1  2  3]\n",
      " [ 4  5  6  7]\n",
      " [ 8  9 10 11]]\n",
      "\n",
      " Flattened Array:\n",
      " [ 0  1  2  3  4  5  6  7  8  9 10 11]\n",
      "\n",
      "Raveled array:\n",
      " [ 0  1  2  3  4  5  6  7  8  9 10 11]\n",
      "\n",
      "transposed array:\n",
      " [[ 0  4  8]\n",
      " [ 1  5  9]\n",
      " [ 2  6 10]\n",
      " [ 3  7 11]]\n"
     ]
    }
   ],
   "source": [
    "arr=np.arange(12)\n",
    "print(\"Original Array:\\n\",arr)\n",
    "\n",
    "reshaped=arr.reshape((3,4))\n",
    "print(\"\\n Reshaped Array:\\n\",reshaped)\n",
    "\n",
    "flattened=reshaped.flatten()\n",
    "print(\"\\n Flattened Array:\\n\",flattened)\n",
    "\n",
    "# ravel returns view, instead of copy\n",
    "raveled=reshaped.ravel()\n",
    "print(\"\\nRaveled array:\\n\",raveled)\n",
    "\n",
    "# Transpose\n",
    "transpose=reshaped.T\n",
    "print(\"\\ntransposed array:\\n\",transpose)\n"
   ]
  },
  {
   "cell_type": "code",
   "execution_count": null,
   "id": "d45f285c",
   "metadata": {},
   "outputs": [],
   "source": []
  }
 ],
 "metadata": {
  "kernelspec": {
   "display_name": "Python 3 (ipykernel)",
   "language": "python",
   "name": "python3"
  },
  "language_info": {
   "codemirror_mode": {
    "name": "ipython",
    "version": 3
   },
   "file_extension": ".py",
   "mimetype": "text/x-python",
   "name": "python",
   "nbconvert_exporter": "python",
   "pygments_lexer": "ipython3",
   "version": "3.12.5"
  }
 },
 "nbformat": 4,
 "nbformat_minor": 5
}
